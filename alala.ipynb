{
 "cells": [
  {
   "cell_type": "markdown",
   "metadata": {
    "collapsed": false
   },
   "source": [
    "# Возьмем готовую разбивку номенклатур по категориям"
   ]
  },
  {
   "cell_type": "code",
   "execution_count": 15,
   "metadata": {
    "collapsed": false,
    "deletable": true,
    "editable": true
   },
   "outputs": [],
   "source": [
    "import pandas\n",
    "import numpy as np\n",
    "import codecs\n",
    "import sklearn\n",
    "from sklearn.pipeline import Pipeline\n",
    "from sklearn.feature_extraction.text import TfidfVectorizer\n",
    "from sklearn.linear_model import LogisticRegression\n",
    "from sklearn.linear_model import LogisticRegressionCV\n",
    "# from sklearn import cross_validation, grid_search, linear_model, metrics\n",
    "\n",
    "colnames = ['name', 'id', 'class']\n",
    "data = pandas.read_csv('nameCatIdCatName.csv', names=colnames, encoding='utf8')\n",
    "names = data['name'].tolist()\n",
    "classes = data['class'].tolist()"
   ]
  },
  {
   "cell_type": "markdown",
   "metadata": {},
   "source": [
    "# Найдем параметры регресии"
   ]
  },
  {
   "cell_type": "code",
   "execution_count": 16,
   "metadata": {
    "collapsed": false
   },
   "outputs": [
    {
     "data": {
      "text/plain": [
       "LogisticRegressionCV(Cs=10, class_weight=None, cv=None, dual=False,\n",
       "           fit_intercept=True, intercept_scaling=1.0, max_iter=100,\n",
       "           multi_class='ovr', n_jobs=-1, penalty='l2', random_state=None,\n",
       "           refit=True, scoring=None, solver='lbfgs', tol=0.0001, verbose=0)"
      ]
     },
     "execution_count": 16,
     "metadata": {},
     "output_type": "execute_result"
    }
   ],
   "source": [
    "vectorizer =  TfidfVectorizer()\n",
    "corpus = vectorizer.fit_transform(names)\n",
    "clf = LogisticRegressionCV(n_jobs=-1)\n",
    "clf.fit(corpus, classes)"
   ]
  },
  {
   "cell_type": "markdown",
   "metadata": {},
   "source": [
    "# Построим по ним модель и проверим"
   ]
  },
  {
   "cell_type": "code",
   "execution_count": 17,
   "metadata": {
    "collapsed": true
   },
   "outputs": [],
   "source": [
    "train_data, test_data, train_labels, test_labels = cross_validation.train_test_split(names, classes, \n",
    "                                                                                     test_size = 0.3, \n",
    "                                                                                     random_state = 0)"
   ]
  },
  {
   "cell_type": "code",
   "execution_count": 18,
   "metadata": {
    "collapsed": false
   },
   "outputs": [
    {
     "data": {
      "text/plain": [
       "Pipeline(steps=[('vectorizer', TfidfVectorizer(analyzer=u'word', binary=False, decode_error=u'strict',\n",
       "        dtype=<type 'numpy.int64'>, encoding=u'utf-8', input=u'content',\n",
       "        lowercase=True, max_df=1.0, max_features=None, min_df=1,\n",
       "        ngram_range=(1, 1), norm=u'l2', preprocessor=None, smooth_id...enalty='l2', random_state=None, solver='lbfgs',\n",
       "          tol=0.0001, verbose=0, warm_start=False))])"
      ]
     },
     "execution_count": 18,
     "metadata": {},
     "output_type": "execute_result"
    }
   ],
   "source": [
    "clf = LogisticRegression(C=10.0, class_weight=None, dual=False,\n",
    "           fit_intercept=True, intercept_scaling=1.0, max_iter=100,\n",
    "           multi_class='ovr', n_jobs=-1, penalty='l2', random_state=None,\n",
    "           solver='lbfgs', tol=0.0001)\n",
    "log = Pipeline([('vectorizer', TfidfVectorizer()),\n",
    "                      ('classifier', clf)])\n",
    "log.fit(train_data, train_labels)"
   ]
  },
  {
   "cell_type": "code",
   "execution_count": 19,
   "metadata": {
    "collapsed": false
   },
   "outputs": [
    {
     "name": "stdout",
     "output_type": "stream",
     "text": [
      "0.930218805441\n"
     ]
    }
   ],
   "source": [
    "score = log.score(test_data, test_labels)\n",
    "print(score)"
   ]
  },
  {
   "cell_type": "markdown",
   "metadata": {},
   "source": [
    "# Полученная точность 93%"
   ]
  },
  {
   "cell_type": "code",
   "execution_count": null,
   "metadata": {
    "collapsed": true
   },
   "outputs": [],
   "source": [
    "# from scipy.stats import randint as sp_randint\n",
    "# log_params = {\n",
    "# 'classifier__solver' : ['newton-cg', 'sag', 'lbfgs'],\n",
    "# 'classifier__max_iter' : [50, 100, 200],\n",
    "# 'classifier__C': [0.001, 0.1, 1, 10, 100]\n",
    "# }\n",
    "# cv = cross_validation.StratifiedShuffleSplit(train_labels, n_iter = 10, test_size = 0.2, random_state = 0)\n",
    "# grid_cv = grid_search.GridSearchCV(log, log_params, scoring = 'accuracy', cv = cv)\n",
    "# grid_cv.fit(train_data, train_labels)\n",
    "# print grid_cv.best_score_\n",
    "# print grid_cv.best_params_\n",
    "# 0.854"
   ]
  },
  {
   "cell_type": "markdown",
   "metadata": {
    "collapsed": false
   },
   "source": [
    "# Раз уж мы тут все собрались, то посмотрим, что все это значит для наших  номенклатур"
   ]
  },
  {
   "cell_type": "code",
   "execution_count": 20,
   "metadata": {
    "collapsed": true
   },
   "outputs": [],
   "source": [
    "content = codecs.open(\"nom3utf.csv\", 'r', 'utf8')\n",
    "real_test = np.random.choice(np.array(content.readlines()), size = 11)"
   ]
  },
  {
   "cell_type": "markdown",
   "metadata": {},
   "source": [
    "# Логистическая регрессия:"
   ]
  },
  {
   "cell_type": "code",
   "execution_count": 21,
   "metadata": {
    "collapsed": false
   },
   "outputs": [
    {
     "name": "stdout",
     "output_type": "stream",
     "text": [
      "Презервативы Durex N3 Elite (ультратонкие)\n",
      "  ПЛАНИРОВАНИЕ СЕМЬИ\n",
      "Омизак капс. киш./раст. 20мг бл. N30 Torrent Pharm.\n",
      "  ЛЕКАРСТВА ПО РЕЦЕПТАМ\n",
      "ЧИСТАЯ ЛИНИЯ фитомаска д/волос красот и сил 200мл Концерн Калина\n",
      "  УХОД ЗА ВОЛОСАМИ\n",
      "Кефир VIVO пор. 0.5г фл. N4 ГИ природных ресурсов\n",
      "  ЛЕКАРСТВА ПО РЕЦЕПТАМ\n",
      "Слабикап капли д/приема вн. 7.5мг/мл 10мл фл. Синтез\n",
      "  ЛЕКАРСТВА ПО РЕЦЕПТАМ\n",
      "Крем-мыло РБА Лесные ягоды 300мл\n",
      "  ГИГИЕНА\n",
      "МИР ДЕТСТВА клеенка 3-х слойн. [19534] Sun Bond Int.Company\n",
      "  МАМА И МАЛЫШ\n",
      "УМН.ЭМАЛЬ Коррекция неоднородных ногтей 15мл\n",
      "  УХОД ЗА ТЕЛОМ\n",
      "ХИМАЛАЯ ХЕРБАЛС Маска отшелушив. с миндалем и огурцом 150 мл.\n",
      "  УХОД ЗА ЛИЦОМ\n",
      "Королева красоты фиточай 2г ф-пак. N20 Здоровье нации\n",
      "  НАРОДНЫЕ СРЕДСТВА\n",
      "АкваМастер спрей наз. 0.65% 50мл с нас.-распыл. бут. Эвалар\n",
      "  СРЕДСТВА ОТ ПРОСТУДЫ\n"
     ]
    }
   ],
   "source": [
    "predicts = log.predict(real_test)\n",
    "for x, p in zip(real_test, predicts):\n",
    "    print(x + \"  \" + p)"
   ]
  },
  {
   "cell_type": "markdown",
   "metadata": {},
   "source": [
    "# Ну, не так уж и плохо"
   ]
  }
 ],
 "metadata": {
  "anaconda-cloud": {},
  "kernelspec": {
   "display_name": "Python [default]",
   "language": "python",
   "name": "python2"
  },
  "language_info": {
   "codemirror_mode": {
    "name": "ipython",
    "version": 2
   },
   "file_extension": ".py",
   "mimetype": "text/x-python",
   "name": "python",
   "nbconvert_exporter": "python",
   "pygments_lexer": "ipython2",
   "version": "2.7.12"
  }
 },
 "nbformat": 4,
 "nbformat_minor": 0
}
