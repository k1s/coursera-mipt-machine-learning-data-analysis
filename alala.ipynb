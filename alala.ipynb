{
 "cells": [
  {
   "cell_type": "markdown",
   "metadata": {
    "collapsed": false
   },
   "source": [
    "# Возьмем готовую разбивку номенклатур по категориям"
   ]
  },
  {
   "cell_type": "code",
   "execution_count": 3,
   "metadata": {
    "collapsed": false,
    "deletable": true,
    "editable": true
   },
   "outputs": [],
   "source": [
    "import pandas\n",
    "import numpy as np\n",
    "import codecs\n",
    "import sklearn\n",
    "from sklearn.pipeline import Pipeline\n",
    "from sklearn.feature_extraction.text import TfidfVectorizer\n",
    "from sklearn.linear_model import LogisticRegression\n",
    "from sklearn.linear_model import LogisticRegressionCV\n",
    "from sklearn import cross_validation, grid_search, linear_model, metrics\n",
    "\n",
    "colnames = ['name', 'id', 'class']\n",
    "data = pandas.read_csv('nameCatIdCatName.csv', names=colnames, encoding='utf8')\n",
    "data.dropna()\n",
    "names = data['name'].tolist()\n",
    "classes = data['class'].tolist()"
   ]
  },
  {
   "cell_type": "markdown",
   "metadata": {},
   "source": [
    "# Найдем параметры регресии"
   ]
  },
  {
   "cell_type": "code",
   "execution_count": 4,
   "metadata": {
    "collapsed": false
   },
   "outputs": [
    {
     "data": {
      "text/plain": [
       "LogisticRegressionCV(Cs=10, class_weight=None, cv=None, dual=False,\n",
       "           fit_intercept=True, intercept_scaling=1.0, max_iter=100,\n",
       "           multi_class='ovr', n_jobs=-1, penalty='l2', random_state=None,\n",
       "           refit=True, scoring=None, solver='lbfgs', tol=0.0001, verbose=0)"
      ]
     },
     "execution_count": 4,
     "metadata": {},
     "output_type": "execute_result"
    }
   ],
   "source": [
    "vectorizer =  TfidfVectorizer()\n",
    "corpus = vectorizer.fit_transform(names)\n",
    "clf = LogisticRegressionCV(n_jobs=-1, max_iter=100, refit=True)\n",
    "clf.fit(corpus, classes)"
   ]
  },
  {
   "cell_type": "markdown",
   "metadata": {},
   "source": [
    "# Построим по ним модель и проверим"
   ]
  },
  {
   "cell_type": "code",
   "execution_count": 5,
   "metadata": {
    "collapsed": false
   },
   "outputs": [],
   "source": [
    "train_data, test_data, train_labels, test_labels = \\\n",
    "cross_validation.train_test_split(names,  classes, test_size = 0.3, random_state = 0)"
   ]
  },
  {
   "cell_type": "code",
   "execution_count": 6,
   "metadata": {
    "collapsed": false
   },
   "outputs": [
    {
     "data": {
      "text/plain": [
       "Pipeline(steps=[('vectorizer', TfidfVectorizer(analyzer=u'word', binary=False, decode_error=u'strict',\n",
       "        dtype=<type 'numpy.int64'>, encoding=u'utf-8', input=u'content',\n",
       "        lowercase=True, max_df=1.0, max_features=None, min_df=1,\n",
       "        ngram_range=(1, 1), norm=u'l2', preprocessor=None, smooth_id...enalty='l2', random_state=None,\n",
       "          solver='lbfgs', tol=0.0001, verbose=0, warm_start=False))])"
      ]
     },
     "execution_count": 6,
     "metadata": {},
     "output_type": "execute_result"
    }
   ],
   "source": [
    "clf = LogisticRegression(C=10.0, class_weight='balanced', dual=False,\n",
    "           fit_intercept=True, intercept_scaling=1.0, max_iter=100,\n",
    "           multi_class='ovr', n_jobs=-1, penalty='l2', random_state=None,\n",
    "           solver='lbfgs', tol=0.0001)\n",
    "log = Pipeline([('vectorizer', TfidfVectorizer()),\n",
    "                      ('classifier', clf)])\n",
    "log.fit(train_data, train_labels)"
   ]
  },
  {
   "cell_type": "code",
   "execution_count": 8,
   "metadata": {
    "collapsed": false
   },
   "outputs": [
    {
     "name": "stdout",
     "output_type": "stream",
     "text": [
      "0.933885274985\n"
     ]
    }
   ],
   "source": [
    "score = log.score(test_data, test_labels)\n",
    "print(score)"
   ]
  },
  {
   "cell_type": "markdown",
   "metadata": {},
   "source": [
    "# Полученная точность 93%"
   ]
  },
  {
   "cell_type": "code",
   "execution_count": null,
   "metadata": {
    "collapsed": true
   },
   "outputs": [],
   "source": [
    "# log_params = {\n",
    "# 'classifier__solver' : ['newton-cg', 'sag', 'lbfgs'],\n",
    "# 'classifier__max_iter' : [100, 200],\n",
    "# 'classifier__C': [0.001, 0.1, 1, 10, 100],\n",
    "# 'classifier__class_weight' : ['balanced', None],\n",
    "# 'classifier__refit' : [False, True],\n",
    "# 'classifier__multi_class' : ['ovr', 'multinomial']\n",
    "# }\n",
    "# cv = cross_validation.StratifiedShuffleSplit(train_labels, n_iter = 10, test_size = 0.2, random_state = 0)\n",
    "# grid_cv = grid_search.GridSearchCV(log, log_params, scoring = 'accuracy', cv = cv)\n",
    "# grid_cv.fit(train_data, train_labels)\n",
    "# print grid_cv.best_score_\n",
    "# print grid_cv.best_params_\n",
    "# 0.854"
   ]
  },
  {
   "cell_type": "markdown",
   "metadata": {
    "collapsed": false
   },
   "source": [
    "# Раз уж мы тут все собрались, то посмотрим, что все это значит для наших  номенклатур"
   ]
  },
  {
   "cell_type": "code",
   "execution_count": 9,
   "metadata": {
    "collapsed": false
   },
   "outputs": [],
   "source": [
    "content = codecs.open(\"nom3utf.csv\", 'r', 'utf8')\n",
    "lines = [x.replace(\"\\\\\", \"\") for x in content.readlines()]\n",
    "real_test = np.random.choice(np.array(lines), size = 10)"
   ]
  },
  {
   "cell_type": "markdown",
   "metadata": {},
   "source": [
    "# Логистическая регрессия:"
   ]
  },
  {
   "cell_type": "code",
   "execution_count": 11,
   "metadata": {
    "collapsed": false
   },
   "outputs": [
    {
     "name": "stdout",
     "output_type": "stream",
     "text": [
      "Доксазозин табл. 4мг бл. N30 Вектор-Медика\n",
      "\n",
      "0.674059532483\n",
      "ЛЕКАРСТВА ПО РЕЦЕПТАМ\n",
      "\n",
      "\n",
      "КОЛГЕЙТ з/паста Тройное действие 100мл \n",
      "\n",
      "0.84114776728\n",
      "УХОД ЗА ПОЛОСТЬЮ РТА\n",
      "\n",
      "\n",
      "Шприц Жане катетерн. 100мл Huaian City Hengchun Medical Product\n",
      "\n",
      "0.360317053464\n",
      "ЛЕКАРСТВА ПО РЕЦЕПТАМ\n",
      "0.546526298699\n",
      "МЕДИЦИНСКАЯ ТЕХНИКА\n",
      "\n",
      "\n",
      "Вальдоксан 25мг таб п/о №14\n",
      "\n",
      "0.877578752254\n",
      "ЛЕКАРСТВА ПО РЕЦЕПТАМ\n",
      "\n",
      "\n",
      "Сиалор 2% спрей для взрослых 10мл\n",
      "\n",
      "0.578008657368\n",
      "СРЕДСТВА ОТ ПРОСТУДЫ\n",
      "\n",
      "\n",
      "Джес табл. п.п.о. флекс-картр. N30 Bayer Schering Pharma AG\n",
      "\n",
      "0.336991001629\n",
      "БИОЛОГИЧЕСКИ-АКТИВНЫЕ ДОБАВКИ\n",
      "\n",
      "\n",
      "Черники Плоды пачка 50г (Иван Чай ЗАО)\n",
      "\n",
      "0.743966131321\n",
      "НАРОДНЫЕ СРЕДСТВА\n",
      "\n",
      "\n",
      "Уролесан капс. бл. N40 Pharmaceutical Balkans\n",
      "\n",
      "0.608698474776\n",
      "ГИНЕКОЛОГИЯ И УРОЛОГИЯ\n",
      "\n",
      "\n",
      "Каламин лосьон успокаивающ. 100мл Ben Shimon Floris\n",
      "\n",
      "0.473309769353\n",
      "УХОД ЗА ТЕЛОМ\n",
      "\n",
      "\n",
      "Наша Мама МК бандаж Идеал до и по/род р3 белый\n",
      "\n",
      "0.636746883582\n",
      "МАМА И МАЛЫШ\n",
      "\n",
      "\n"
     ]
    }
   ],
   "source": [
    "predicts = log.predict_proba(real_test)\n",
    "for x, predict in zip(real_test, predicts):\n",
    "    print(x)\n",
    "    for p, l in zip(predict, log.classes_):\n",
    "        if (p > 0.3):\n",
    "            print(p)\n",
    "            print(l)\n",
    "    print('\\n')"
   ]
  },
  {
   "cell_type": "markdown",
   "metadata": {},
   "source": [
    "# Ну, не так уж и плохо"
   ]
  }
 ],
 "metadata": {
  "anaconda-cloud": {},
  "kernelspec": {
   "display_name": "Python [default]",
   "language": "python",
   "name": "python2"
  },
  "language_info": {
   "codemirror_mode": {
    "name": "ipython",
    "version": 2
   },
   "file_extension": ".py",
   "mimetype": "text/x-python",
   "name": "python",
   "nbconvert_exporter": "python",
   "pygments_lexer": "ipython2",
   "version": "2.7.12"
  }
 },
 "nbformat": 4,
 "nbformat_minor": 0
}
