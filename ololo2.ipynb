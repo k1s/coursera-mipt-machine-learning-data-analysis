{
 "cells": [
  {
   "cell_type": "markdown",
   "metadata": {
    "collapsed": false
   },
   "source": [
    "# Возьмем готовую разбивку номенклатур по категориям"
   ]
  },
  {
   "cell_type": "code",
   "execution_count": 5,
   "metadata": {
    "collapsed": false,
    "deletable": true,
    "editable": true
   },
   "outputs": [],
   "source": [
    "import pandas\n",
    "import numpy as np\n",
    "import codecs\n",
    "import sklearn\n",
    "from sklearn.pipeline import Pipeline\n",
    "from sklearn.feature_extraction.text import TfidfVectorizer\n",
    "from sklearn.neighbors import KNeighborsClassifier\n",
    "from sklearn.ensemble import RandomForestClassifier\n",
    "\n",
    "colnames = ['name', 'id', 'class']\n",
    "data = pandas.read_csv('nameCatIdCatName.csv', names=colnames, encoding='utf8')\n",
    "names = data['name'].tolist()\n",
    "classes = data['class'].tolist()\n",
    "testLen = len(names) / 7\n",
    "x_train = np.array(names[testLen:])\n",
    "y_train = np.array(classes[testLen:])\n",
    "x_test = np.array(names[:testLen]) \n",
    "y_test = np.array(classes[:testLen])"
   ]
  },
  {
   "cell_type": "markdown",
   "metadata": {},
   "source": [
    "# Добавим две(sic!) строчки кода"
   ]
  },
  {
   "cell_type": "code",
   "execution_count": 3,
   "metadata": {
    "collapsed": false
   },
   "outputs": [
    {
     "data": {
      "text/plain": [
       "Pipeline(steps=[('vectorizer', TfidfVectorizer(analyzer=u'word', binary=False, decode_error=u'strict',\n",
       "        dtype=<type 'numpy.int64'>, encoding=u'utf-8', input=u'content',\n",
       "        lowercase=True, max_df=1.0, max_features=None, min_df=1,\n",
       "        ngram_range=(1, 1), norm=u'l2', preprocessor=None, smooth_id...owski',\n",
       "           metric_params=None, n_jobs=1, n_neighbors=5, p=2,\n",
       "           weights='uniform'))])"
      ]
     },
     "execution_count": 3,
     "metadata": {},
     "output_type": "execute_result"
    }
   ],
   "source": [
    "pipeline = Pipeline([('vectorizer', TfidfVectorizer(ngram_range=(1,1))),('classifier',  KNeighborsClassifier())])\n",
    "pipeline.fit(x_train, y_train)"
   ]
  },
  {
   "cell_type": "code",
   "execution_count": 4,
   "metadata": {
    "collapsed": false
   },
   "outputs": [
    {
     "name": "stdout",
     "output_type": "stream",
     "text": [
      "0.836408668731\n"
     ]
    }
   ],
   "source": [
    "score = pipeline.score(x_test, y_test)\n",
    "print(score)"
   ]
  },
  {
   "cell_type": "markdown",
   "metadata": {},
   "source": [
    "# Полученная точность 84%! Это на 3% процента больше чем у комитета решающих деревьев и на 10% больше чем у нейронной сети! Хотя у леса точность чуть ниже, работает он намного быстрее, поэтому будем использовать его тоже"
   ]
  },
  {
   "cell_type": "code",
   "execution_count": 6,
   "metadata": {
    "collapsed": false
   },
   "outputs": [
    {
     "data": {
      "text/plain": [
       "Pipeline(steps=[('vectorizer', TfidfVectorizer(analyzer=u'word', binary=False, decode_error=u'strict',\n",
       "        dtype=<type 'numpy.int64'>, encoding=u'utf-8', input=u'content',\n",
       "        lowercase=True, max_df=1.0, max_features=None, min_df=1,\n",
       "        ngram_range=(1, 1), norm=u'l2', preprocessor=None, smooth_id...imators=10, n_jobs=1, oob_score=False, random_state=None,\n",
       "            verbose=0, warm_start=False))])"
      ]
     },
     "execution_count": 6,
     "metadata": {},
     "output_type": "execute_result"
    }
   ],
   "source": [
    "pipeline1 = Pipeline([('vectorizer', TfidfVectorizer(ngram_range=(1,1))),('classifier',  RandomForestClassifier())])\n",
    "pipeline1.fit(x_train, y_train)"
   ]
  },
  {
   "cell_type": "code",
   "execution_count": 7,
   "metadata": {
    "collapsed": false
   },
   "outputs": [
    {
     "name": "stdout",
     "output_type": "stream",
     "text": [
      "0.81213622291\n"
     ]
    }
   ],
   "source": [
    "score1 = pipeline1.score(x_test, y_test)\n",
    "print(score1)"
   ]
  },
  {
   "cell_type": "markdown",
   "metadata": {
    "collapsed": false
   },
   "source": [
    "# Раз уж мы тут все собрались, то посмотрим, что все это значит для наших  номенклатур"
   ]
  },
  {
   "cell_type": "code",
   "execution_count": 13,
   "metadata": {
    "collapsed": true
   },
   "outputs": [],
   "source": [
    "content = codecs.open(\"nom3utf.csv\", 'r', 'utf8')\n",
    "real_test = np.random.choice(np.array(content.readlines()), size = 11)"
   ]
  },
  {
   "cell_type": "markdown",
   "metadata": {},
   "source": [
    "# Ближайшие соседи:"
   ]
  },
  {
   "cell_type": "code",
   "execution_count": 14,
   "metadata": {
    "collapsed": false
   },
   "outputs": [
    {
     "name": "stdout",
     "output_type": "stream",
     "text": [
      "Вата стерильн. 250г СЦ МЕДТЕХНИКА ГУРМЭ\n",
      "  ПЕРВАЯ ПОМОЩЬ\n",
      "Диара капс. 2мг бл. N10 Оболенское ФП\n",
      "  ЖЕЛУДОЧНО-КИШЕЧНЫЕ ПРЕПАРАТЫ\n",
      "Обеграсс пор. 6.38г пак. N30 ACTAFARMA\n",
      "  БИОЛОГИЧЕСКИ-АКТИВНЫЕ ДОБАВКИ\n",
      "СПА БЕЛЛЬ Божья коровка грелка с наполнител. из гречих. и лаванд. Yangzhou King\\sway Import & Export\n",
      "  УХОД ЗА ТЕЛОМ\n",
      "Ноопепт табл. 10мг бл. N50 Фармстандарт-Лексредства\n",
      "  ЛЕКАРСТВА ПО РЕЦЕПТАМ\n",
      "МЕРРИС трусики-подгузники XXL(15-28кг) N26 Kao Corp.\n",
      "  МАМА И МАЛЫШ\n",
      "ПАРОДОНТОЛ Зелен. чай паста зубная 124г Свобода\n",
      "  УХОД ЗА ПОЛОСТЬЮ РТА\n",
      "Р-Р Д/ЛИНЗ RENU MPS 240МЛ\n",
      "  ЗАБОТА О ЗРЕНИИ\n",
      "Дентипур порошок д/фиксации зубн.протезов 25г .@\n",
      "  УХОД ЗА ПОЛОСТЬЮ РТА\n",
      "Глюкозамин Максимум табл. N60 Herkel\n",
      "  БИОЛОГИЧЕСКИ-АКТИВНЫЕ ДОБАВКИ\n",
      "Deep depil крем-депилятор д/лица с масл персик 50мл [Ф126] Флоресан\n",
      "  ГИГИЕНА\n"
     ]
    }
   ],
   "source": [
    "predicts = pipeline.predict(real_test)\n",
    "for x, p in zip(real_test, predicts):\n",
    "    print(x + \"  \" + p)"
   ]
  },
  {
   "cell_type": "markdown",
   "metadata": {},
   "source": [
    "# Решающий лес:"
   ]
  },
  {
   "cell_type": "code",
   "execution_count": 16,
   "metadata": {
    "collapsed": false
   },
   "outputs": [
    {
     "name": "stdout",
     "output_type": "stream",
     "text": [
      "Вата стерильн. 250г СЦ МЕДТЕХНИКА ГУРМЭ\n",
      "  ПЕРВАЯ ПОМОЩЬ\n",
      "Диара капс. 2мг бл. N10 Оболенское ФП\n",
      "  ЛЕКАРСТВА ПО РЕЦЕПТАМ\n",
      "Обеграсс пор. 6.38г пак. N30 ACTAFARMA\n",
      "  БИОЛОГИЧЕСКИ-АКТИВНЫЕ ДОБАВКИ\n",
      "СПА БЕЛЛЬ Божья коровка грелка с наполнител. из гречих. и лаванд. Yangzhou King\\sway Import & Export\n",
      "  УХОД ЗА БОЛЬНЫМИ\n",
      "Ноопепт табл. 10мг бл. N50 Фармстандарт-Лексредства\n",
      "  БИОЛОГИЧЕСКИ-АКТИВНЫЕ ДОБАВКИ\n",
      "МЕРРИС трусики-подгузники XXL(15-28кг) N26 Kao Corp.\n",
      "  МАМА И МАЛЫШ\n",
      "ПАРОДОНТОЛ Зелен. чай паста зубная 124г Свобода\n",
      "  УХОД ЗА ПОЛОСТЬЮ РТА\n",
      "Р-Р Д/ЛИНЗ RENU MPS 240МЛ\n",
      "  ЗАБОТА О ЗРЕНИИ\n",
      "Дентипур порошок д/фиксации зубн.протезов 25г .@\n",
      "  УХОД ЗА ПОЛОСТЬЮ РТА\n",
      "Глюкозамин Максимум табл. N60 Herkel\n",
      "  БИОЛОГИЧЕСКИ-АКТИВНЫЕ ДОБАВКИ\n",
      "Deep depil крем-депилятор д/лица с масл персик 50мл [Ф126] Флоресан\n",
      "  УХОД ЗА ЛИЦОМ\n"
     ]
    }
   ],
   "source": [
    "predicts1 = pipeline1.predict(real_test)\n",
    "for x, p in zip(real_test, predicts1):\n",
    "    print(x + \"  \" + p)"
   ]
  },
  {
   "cell_type": "markdown",
   "metadata": {},
   "source": [
    "# Ну, не так уж и плохо"
   ]
  }
 ],
 "metadata": {
  "anaconda-cloud": {},
  "kernelspec": {
   "display_name": "Python [default]",
   "language": "python",
   "name": "python2"
  },
  "language_info": {
   "codemirror_mode": {
    "name": "ipython",
    "version": 2
   },
   "file_extension": ".py",
   "mimetype": "text/x-python",
   "name": "python",
   "nbconvert_exporter": "python",
   "pygments_lexer": "ipython2",
   "version": "2.7.12"
  }
 },
 "nbformat": 4,
 "nbformat_minor": 2
}
