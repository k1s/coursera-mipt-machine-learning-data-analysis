{
 "cells": [
  {
   "cell_type": "markdown",
   "metadata": {
    "collapsed": false
   },
   "source": [
    "# Возьмем готовую разбивку номенклатур по категориям"
   ]
  },
  {
   "cell_type": "code",
   "execution_count": 91,
   "metadata": {
    "collapsed": false,
    "deletable": true,
    "editable": true
   },
   "outputs": [],
   "source": [
    "import pandas\n",
    "import numpy as np\n",
    "import codecs\n",
    "from sklearn.pipeline import Pipeline\n",
    "from sklearn.feature_extraction.text import TfidfVectorizer\n",
    "from sklearn.naive_bayes import MultinomialNB\n",
    "colnames = ['name', 'id', 'class']\n",
    "data = pandas.read_csv('nameCatIdCatName.csv', names=colnames, encoding='utf8')\n",
    "names = data['name'].tolist()\n",
    "classes = data['class'].tolist()\n",
    "testLen = len(names) / 7\n",
    "x_train = np.array(names[testLen:])\n",
    "y_train = np.array(classes[testLen:])\n",
    "x_test = np.array(names[:testLen]) \n",
    "y_test = np.array(classes[:testLen])"
   ]
  },
  {
   "cell_type": "markdown",
   "metadata": {},
   "source": [
    "# Добавим две(sic!) строчки кода"
   ]
  },
  {
   "cell_type": "code",
   "execution_count": 92,
   "metadata": {
    "collapsed": false
   },
   "outputs": [
    {
     "data": {
      "text/plain": [
       "Pipeline(steps=[('vectorizer', TfidfVectorizer(analyzer=u'word', binary=False, decode_error=u'strict',\n",
       "        dtype=<type 'numpy.int64'>, encoding=u'utf-8', input=u'content',\n",
       "        lowercase=True, max_df=1.0, max_features=None, min_df=1,\n",
       "        ngram_range=(1, 1), norm=u'l2', preprocessor=None, smooth_id...      vocabulary=None)), ('classifier', MultinomialNB(alpha=1.0, class_prior=None, fit_prior=True))])"
      ]
     },
     "execution_count": 92,
     "metadata": {},
     "output_type": "execute_result"
    }
   ],
   "source": [
    "pipeline = Pipeline([('vectorizer', TfidfVectorizer(ngram_range=(1,1))),('classifier',  MultinomialNB()) ])\n",
    "pipeline.fit(x_train, y_train)"
   ]
  },
  {
   "cell_type": "code",
   "execution_count": 93,
   "metadata": {
    "collapsed": false
   },
   "outputs": [
    {
     "name": "stdout",
     "output_type": "stream",
     "text": [
      "0.71653250774\n"
     ]
    }
   ],
   "source": [
    "score = pipeline.score(x_test, y_test)\n",
    "print(score)"
   ]
  },
  {
   "cell_type": "markdown",
   "metadata": {},
   "source": [
    "# Полученная точность 72%. Пробовал менять n-грамы, по-разному обрабатывать имена, но с наскоку больше не получилось"
   ]
  },
  {
   "cell_type": "markdown",
   "metadata": {},
   "source": [
    "# Посмотрим, что все это значит"
   ]
  },
  {
   "cell_type": "code",
   "execution_count": 94,
   "metadata": {
    "collapsed": false
   },
   "outputs": [
    {
     "name": "stdout",
     "output_type": "stream",
     "text": [
      "дезринит спрей назальный  СРЕДСТВА ОТ ПРОСТУДЫ\n",
      "acuvue линзы  ЛЕКАРСТВА ПО РЕЦЕПТАМ\n",
      "garnier активный контроль  УХОД ЗА ЛИЦОМ\n",
      "zewa платки  ГИГИЕНА\n",
      "фарингосепт табл.  ЛЕКАРСТВА ПО РЕЦЕПТАМ\n",
      "парацетамол 500  ТОВАРЫ ПЕРСОНАЛЬНОГО УХОДА\n",
      "cosmos пластырь водостойкий  ПЕРВАЯ ПОМОЩЬ\n",
      "аспирин 500 табл  ЛЕКАРСТВА ПО РЕЦЕПТАМ\n",
      "идеальная кожа чистая линия  УХОД ЗА ЛИЦОМ\n"
     ]
    }
   ],
   "source": [
    "x_x = np.array([u'дезринит спрей назальный', u'acuvue линзы', u'garnier активный контроль', u'zewa платки', u'фарингосепт табл.'\n",
    "                  , u'парацетамол 500', u'cosmos пластырь водостойкий', u'аспирин 500 табл', u'идеальная кожа чистая линия'])\n",
    "predicts = pipeline.predict(x_x)\n",
    "for x, p in zip(x_x, predicts):\n",
    "    print(x + \"  \" + p)"
   ]
  },
  {
   "cell_type": "markdown",
   "metadata": {
    "collapsed": false
   },
   "source": [
    "# Раз уж мы тут все собрались, то проверим, что будет с номенклатурами"
   ]
  },
  {
   "cell_type": "code",
   "execution_count": 44,
   "metadata": {
    "collapsed": false
   },
   "outputs": [
    {
     "name": "stdout",
     "output_type": "stream",
     "text": [
      "Бинт эласт PEHA-CREEP креп тк 4мх10см\n",
      "  ПЕРВАЯ ПОМОЩЬ\n",
      "Нео-Пенотран Форте супп. ваг. 750+200мг с напальч. бл. N7 Embil Pharm.\n",
      "  ЛЕКАРСТВА ПО РЕЦЕПТАМ\n",
      "ДИЗАО МАСКА ЖЕНЬШЕНЬ КОЛЛАГЕН ЭКСПРЕСС-УХОД ЗА КОЖЕЙ+ГИАЛУР КРЕМ N10 Jiang\\su Bailan Group Incorporated Company\n",
      "  УХОД ЗА ЛИЦОМ\n",
      "Дрожжи пивные Экко Плюс с магнием табл. фл. N100 Экко Плюс\n",
      "  БИОЛОГИЧЕСКИ-АКТИВНЫЕ ДОБАВКИ\n",
      "МИРРОЛЛА масло вазелинов 25мл Мирролла\n",
      "  УХОД ЗА ТЕЛОМ\n",
      "Лизоретик табл. 20+12.5мг бл. N28 Ipca Laboratorie\\s\n",
      "  ЛЕКАРСТВА ПО РЕЦЕПТАМ\n",
      "Ортофен табл. п.к/р.о. 25мг бл. N30 Мосхимфармпрепараты им.Н.А.Семашко\n",
      "  ЛЕКАРСТВА ПО РЕЦЕПТАМ\n",
      "Биовестин лакто эмульс. д/приема вн. 12мл фл. Био-Веста\n",
      "  ЛЕКАРСТВА ПО РЕЦЕПТАМ\n",
      "ПРЕЗИДЕНТ з/нить (фитофлосс) Сенситив 25м №1\n",
      "  УХОД ЗА ПОЛОСТЬЮ РТА\n",
      "Фервекс пор. д/р-ра д/приема вн. лим-сах 500+25+200мг 13.1г пак. N8 Bri\\stol-Myer\\s Squibb\n",
      "  ЛЕКАРСТВА ПО РЕЦЕПТАМ\n",
      "Масло д/укреплен волос 50мл Золотоношская ПКФ\n",
      "  ЛЕЧЕБНАЯ КОСМЕТИКА\n"
     ]
    }
   ],
   "source": [
    "content = codecs.open(\"nom3utf.csv\", 'r', 'utf8')\n",
    "real_test = np.random.choice(np.array(content.readlines()), size = 11)\n",
    "predicts1 = pipeline.predict(real_test)\n",
    "for x, p in zip(real_test, predicts1):\n",
    "    print(x + \"  \" + p)"
   ]
  },
  {
   "cell_type": "markdown",
   "metadata": {},
   "source": [
    "# Ну, не так уж и плохо"
   ]
  }
 ],
 "metadata": {
  "kernelspec": {
   "display_name": "Python [default]",
   "language": "python",
   "name": "python2"
  },
  "language_info": {
   "codemirror_mode": {
    "name": "ipython",
    "version": 2
   },
   "file_extension": ".py",
   "mimetype": "text/x-python",
   "name": "python",
   "nbconvert_exporter": "python",
   "pygments_lexer": "ipython2",
   "version": "2.7.12"
  }
 },
 "nbformat": 4,
 "nbformat_minor": 2
}
