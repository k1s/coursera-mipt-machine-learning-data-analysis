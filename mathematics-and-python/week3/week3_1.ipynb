{
 "cells": [
  {
   "cell_type": "code",
   "execution_count": 19,
   "metadata": {
    "collapsed": false
   },
   "outputs": [
    {
     "name": "stdout",
     "output_type": "stream",
     "text": [
      "1.75 -11.9\n"
     ]
    },
    {
     "data": {
      "text/plain": [
       "[<matplotlib.lines.Line2D at 0x1108239d0>]"
      ]
     },
     "execution_count": 19,
     "metadata": {},
     "output_type": "execute_result"
    },
    {
     "data": {
      "image/png": "[encoded data removed]",
      "text/plain": [
       "<matplotlib.figure.Figure at 0x1102d7910>"
      ]
     },
     "metadata": {},
     "output_type": "display_data"
    }
   ],
   "source": [
    "from scipy import optimize\n",
    "from numpy import sin, exp\n",
    "from matplotlib import pyplot\n",
    "%matplotlib inline\n",
    "    \n",
    "f = lambda x: sin(x / 5.) * exp(x / 10.) + 5. * exp(-x / 2.)\n",
    "    \n",
    "min1 = optimize.minimize(f, 2, method=\"BFGS\")    \n",
    "ans1 = f(min1.x)\n",
    "\n",
    "min2 = optimize.minimize(f, 30, method=\"BFGS\")    \n",
    "ans2 = f(min2.x)\n",
    "\n",
    "print round(ans1, 2), round(ans2, 2)\n",
    "pyplot.plot(xrange(1, 1000), [f(x) for x in xrange(1, 1000)])"
   ]
  },
  {
   "cell_type": "code",
   "execution_count": null,
   "metadata": {
    "collapsed": true
   },
   "outputs": [],
   "source": []
  }
 ],
 "metadata": {
  "anaconda-cloud": {},
  "kernelspec": {
   "display_name": "Python [default]",
   "language": "python",
   "name": "python2"
  },
  "language_info": {
   "codemirror_mode": {
    "name": "ipython",
    "version": 2
   },
   "file_extension": ".py",
   "mimetype": "text/x-python",
   "name": "python",
   "nbconvert_exporter": "python",
   "pygments_lexer": "ipython2",
   "version": "2.7.12"
  }
 },
 "nbformat": 4,
 "nbformat_minor": 0
}
